{
 "cells": [
  {
   "cell_type": "markdown",
   "id": "1a6996fd",
   "metadata": {},
   "source": [
    "# GEOG 489 Project"
   ]
  },
  {
   "cell_type": "markdown",
   "id": "d3c285c3",
   "metadata": {},
   "source": [
    "## Introduction"
   ]
  },
  {
   "cell_type": "markdown",
   "id": "102675e4",
   "metadata": {},
   "source": [
    "### 1. Motivations"
   ]
  },
  {
   "cell_type": "markdown",
   "id": "3552ef77",
   "metadata": {},
   "source": [
    "Food safety is a critical public health issue. In urban areas like Chicago, Illinois, government oversight of institutions that serve food to the public is important to maintain the health of the people who eat or acquire food at these institutions. Failure to follow proper health and safety codes on the part of private enterprises can lead to outbreaks of infectious and food-borne illnesses."
   ]
  },
  {
   "cell_type": "markdown",
   "id": "6bbb6436",
   "metadata": {},
   "source": [
    "### 2. Goals"
   ]
  },
  {
   "cell_type": "markdown",
   "id": "5eabdcb4",
   "metadata": {},
   "source": [
    "The City of Chicago plots every health inspection of a food-serving institution on a map along with the institution’s evaluated risk level (Low, Medium, High). By analyzing this data, we will be able to visualize which areas might be underserved and therefore at higher risk for poor food safety and increased risk of food-borne illnesses. We are interested to see if there is a correlation between risk level and demographic data, and will create visualizations to see how this changes. The available dataset has a decade of health inspection data, so we will be able to see if there are any long term trends, in regards to what kind of establishments are inspected more frequently, and what association there is with the demographics of the region. \n",
    "\n",
    "\n",
    "Additionally, we will plot these inspection records on the Chicago road network, which will allow us to perform route efficiency analysis to maximize the number of inspections a theoretical inspector could perform. We will perform a network analysis using the restaurants as nodes, to create a visualization of the nearest restaurants to a health inspection office. By optimizing the route a theoretical health inspector might take, we could improve the efficiency of health inspections and potentially service more restaurants on a daily basis. \n"
   ]
  },
  {
   "cell_type": "markdown",
   "id": "07c28265",
   "metadata": {},
   "source": [
    "### 3. Datasets"
   ]
  },
  {
   "cell_type": "markdown",
   "id": "e1be5336",
   "metadata": {},
   "source": [
    "- Shapefile of Chicago\n",
    "- Food inspections: This dataset is derived from inspections of restaurants and other food establishments in Chicago from January 1, 2010 to the present. Inspections are performed by staff from the Chicago Department of Public Health’s Food Protection Program using a standardized procedure.\n",
    "- Census data: Selected socioeconomic indicators in Chicago\n",
    "- Chicago road networks\n",
    "\n",
    "![jupyter](./figures/road_networks.png)"
   ]
  },
  {
   "cell_type": "markdown",
   "id": "c8a53bce",
   "metadata": {},
   "source": [
    "## Implementation"
   ]
  },
  {
   "cell_type": "markdown",
   "id": "7fe4f59d",
   "metadata": {},
   "source": [
    "### 0. Import Libraries"
   ]
  },
  {
   "cell_type": "code",
   "execution_count": null,
   "id": "52231f84",
   "metadata": {},
   "outputs": [],
   "source": [
    "import numpy as np\n",
    "import pandas as pd\n",
    "import geopandas as gpd\n",
    "import matplotlib.pyplot as plt\n",
    "import time\n",
    "import plotly.express as px\n",
    "import seaborn\n",
    "from dash import Dash, dcc, html, Input, Output\n",
    "from collections import defaultdict\n",
    "import warnings\n",
    "import libpysal\n",
    "import esda\n",
    "warnings.filterwarnings('ignore')"
   ]
  },
  {
   "cell_type": "markdown",
   "id": "101137ec",
   "metadata": {},
   "source": [
    "### 1. Import Data"
   ]
  },
  {
   "cell_type": "code",
   "execution_count": null,
   "id": "ee3460e4",
   "metadata": {},
   "outputs": [],
   "source": [
    "# Import shapefile\n",
    "chicomm = gpd.read_file('./data/chicomm/chicomm.shp')\n",
    "chicomm.head()"
   ]
  },
  {
   "cell_type": "code",
   "execution_count": null,
   "id": "235c7a78",
   "metadata": {},
   "outputs": [],
   "source": [
    "# Import food inspection data\n",
    "inspections = pd.read_csv('./data/Food_Inspections_2018to22.csv')\n",
    "inspections.head()"
   ]
  },
  {
   "cell_type": "code",
   "execution_count": null,
   "id": "3e073e3d",
   "metadata": {},
   "outputs": [],
   "source": [
    "# Import census data\n",
    "census = pd.read_csv('./data/Census_Data_-_Selected_socioeconomic_indicators_in_Chicago__2008___2012.csv')\n",
    "census.head()"
   ]
  },
  {
   "cell_type": "code",
   "execution_count": null,
   "id": "dcb912ec",
   "metadata": {},
   "outputs": [],
   "source": [
    "# Overview of the data\n",
    "# Chicago shapefile\n",
    "fig, ax = plt.subplots(1, 1, figsize=(10, 8))\n",
    "chicomm.plot(ax=ax)"
   ]
  },
  {
   "cell_type": "code",
   "execution_count": null,
   "id": "868d5480",
   "metadata": {},
   "outputs": [],
   "source": [
    "# Pie chart: risk level\n",
    "inspections_by_risk = inspections.groupby('Risk').size()\n",
    "plt.pie(inspections_by_risk,\n",
    "        labels=inspections_by_risk.index.to_list(),\n",
    "        radius=2);"
   ]
  },
  {
   "cell_type": "code",
   "execution_count": null,
   "id": "7d6b1e8b",
   "metadata": {},
   "outputs": [],
   "source": [
    "# Pie chart: inspection type\n",
    "inspections_by_type = inspections.groupby('Inspection Type').size()\n",
    "plt.pie(inspections_by_type,\n",
    "        labels=inspections_by_type.index.to_list(),\n",
    "        radius=2);"
   ]
  },
  {
   "cell_type": "markdown",
   "id": "bcdcf192",
   "metadata": {},
   "source": [
    "### 2. Data Preparation"
   ]
  },
  {
   "cell_type": "code",
   "execution_count": null,
   "id": "f8de2388",
   "metadata": {},
   "outputs": [],
   "source": [
    "# Prepare for merging\n",
    "chicomm = chicomm[['DISTNAME', 'DISTITLE', 'geometry']]\n",
    "chicomm.dtypes"
   ]
  },
  {
   "cell_type": "code",
   "execution_count": null,
   "id": "49868a8c",
   "metadata": {},
   "outputs": [],
   "source": [
    "# Census data for each community\n",
    "census_comm = census[:77]\n",
    "census_chi = census[77:]\n",
    "\n",
    "# Drop a useless column\n",
    "census_comm = census_comm.drop(columns=['COMMUNITY AREA NAME'])\n",
    "\n",
    "# Check data type\n",
    "census_comm.dtypes"
   ]
  },
  {
   "cell_type": "code",
   "execution_count": null,
   "id": "24825790",
   "metadata": {},
   "outputs": [],
   "source": [
    "# Convert data type for merging\n",
    "census_comm['Community Area Number'] = census_comm['Community Area Number'].astype(int)"
   ]
  },
  {
   "cell_type": "code",
   "execution_count": null,
   "id": "c6c2a070",
   "metadata": {},
   "outputs": [],
   "source": [
    "chicomm = chicomm.merge(census_comm, left_on='DISTNAME', right_on='Community Area Number')\n",
    "chicomm.head()"
   ]
  },
  {
   "cell_type": "code",
   "execution_count": null,
   "id": "7a944765",
   "metadata": {},
   "outputs": [],
   "source": [
    "# Reorganize inspection data\n",
    "inspections = inspections.drop(columns=['Location'])\n",
    "\n",
    "inspections['Inspection Date'] = inspections['Inspection Date'].map(lambda x: time.strptime(x, \"%m/%d/%Y\"))"
   ]
  },
  {
   "cell_type": "code",
   "execution_count": null,
   "id": "b2b668eb",
   "metadata": {},
   "outputs": [],
   "source": [
    "inspections = gpd.GeoDataFrame(\n",
    "    inspections, geometry=gpd.points_from_xy(inspections.Longitude, inspections.Latitude))\n",
    "\n",
    "inspections = inspections.drop(columns=['Latitude', 'Longitude'])\n",
    "inspections['Inspection Date']"
   ]
  },
  {
   "cell_type": "markdown",
   "id": "6fb1ee7d",
   "metadata": {},
   "source": [
    "The module \"time\" in Python uses structures like above to record date and time. Attributes: tm_year, tm_mon, tm_mday, tm_hour, tm_min. tm_sec, tm_wday, tm_yday and tm_isdst. We only care about the date."
   ]
  },
  {
   "cell_type": "markdown",
   "id": "0f99d94c",
   "metadata": {},
   "source": [
    "Now we need to organize the inspection data by inspection date. This step can be quite time consuming if we keep the geodataframe data structure. So we use list instead."
   ]
  },
  {
   "cell_type": "code",
   "execution_count": null,
   "id": "3737502e",
   "metadata": {},
   "outputs": [],
   "source": [
    "inspections = inspections.set_crs('epsg:4269')\n",
    "inspections_by_year = defaultdict(list)"
   ]
  },
  {
   "cell_type": "code",
   "execution_count": null,
   "id": "a18d2ec7",
   "metadata": {
    "scrolled": true
   },
   "outputs": [],
   "source": [
    "# For each row in the inspection dataset, we convert it to a list\n",
    "for idx, row in inspections.iterrows():\n",
    "    inspections_by_year[row['Inspection Date'][0]].append(row.tolist())"
   ]
  },
  {
   "cell_type": "markdown",
   "id": "6df8a1f4",
   "metadata": {},
   "source": [
    "Convert 2-D lists to geodataframes."
   ]
  },
  {
   "cell_type": "code",
   "execution_count": null,
   "id": "62ea9a7a",
   "metadata": {},
   "outputs": [],
   "source": [
    "for key in inspections_by_year:\n",
    "    inspections_by_year[key] = gpd.GeoDataFrame(inspections_by_year[key], columns=inspections.columns)\n",
    "    inspections_by_year[key] = inspections_by_year[key].set_crs('epsg:4269')\n",
    "    \n",
    "inspections_by_year[2020].head()"
   ]
  },
  {
   "cell_type": "markdown",
   "id": "423e4eb5",
   "metadata": {},
   "source": [
    "### 3. Dynamic Choropleth Maps"
   ]
  },
  {
   "cell_type": "markdown",
   "id": "04d21ca9",
   "metadata": {},
   "source": [
    "There are several ways to make choropleth maps in python. In our project, we will look into choropleth maps in two modules: geopandas and plotly."
   ]
  },
  {
   "cell_type": "markdown",
   "id": "06aff37a",
   "metadata": {},
   "source": [
    "#### 3.1 Choropleth maps in geopandas"
   ]
  },
  {
   "cell_type": "code",
   "execution_count": null,
   "id": "739ee6e7",
   "metadata": {},
   "outputs": [],
   "source": [
    "# Spatial join\n",
    "total_inspections = gpd.sjoin(inspections, chicomm[['DISTITLE', 'geometry']], op='within')\n",
    "high_risk = gpd.sjoin(inspections[inspections['Risk']=='Risk 1 (High)'], chicomm[['DISTITLE', 'geometry']], op='within')\n",
    "\n",
    "total_inspections_comm = total_inspections.groupby('DISTITLE').size()\n",
    "high_risk_comm = high_risk.groupby('DISTITLE').size()\n",
    "\n",
    "total_inspections_comm = total_inspections_comm.to_frame(name='Number of Total Inspections')\n",
    "high_risk_comm = high_risk_comm.to_frame(name='Number of High Risk')\n",
    "\n",
    "chicomm_sjoin = chicomm.merge(total_inspections_comm, left_on='DISTITLE', right_on='DISTITLE')\n",
    "chicomm_sjoin = chicomm_sjoin.merge(high_risk_comm, left_on='DISTITLE', right_on='DISTITLE')"
   ]
  },
  {
   "cell_type": "code",
   "execution_count": null,
   "id": "6334e395",
   "metadata": {},
   "outputs": [],
   "source": [
    "# High risk rate\n",
    "chicomm_sjoin['Rate of High Risk'] = chicomm_sjoin.apply(lambda x: x['Number of High Risk']/x['Number of Total Inspections'], axis=1)"
   ]
  },
  {
   "cell_type": "code",
   "execution_count": null,
   "id": "0e6e3887",
   "metadata": {},
   "outputs": [],
   "source": [
    "chicomm_sjoin.head()"
   ]
  },
  {
   "cell_type": "code",
   "execution_count": null,
   "id": "ad6ff039",
   "metadata": {},
   "outputs": [],
   "source": [
    "fig, ax = plt.subplots(1, 3, figsize=(15, 10))\n",
    "\n",
    "ax[0].set_title('Total Inspections')\n",
    "ax[1].set_title('Number of High Risk')\n",
    "ax[2].set_title('Rate of High Risk')\n",
    "\n",
    "chicomm.boundary.plot(ax=ax[0], color='black')\n",
    "chicomm.boundary.plot(ax=ax[1], color='black')\n",
    "chicomm.boundary.plot(ax=ax[2], color='black')\n",
    "\n",
    "chicomm_sjoin.plot(column='Number of Total Inspections',\n",
    "                   ax=ax[0],\n",
    "                   cmap='Blues',\n",
    "                   legend=True,\n",
    "                   scheme='FisherJenks',\n",
    "                   k=5)\n",
    "\n",
    "chicomm_sjoin.plot(column='Number of High Risk',\n",
    "                   ax=ax[1],\n",
    "                   cmap='Reds',\n",
    "                   legend=True,\n",
    "                   scheme='FisherJenks',\n",
    "                   k=5)\n",
    "\n",
    "chicomm_sjoin.plot(column='Rate of High Risk',\n",
    "                   ax=ax[2],\n",
    "                   cmap='Reds',\n",
    "                   legend=True,\n",
    "                   scheme='FisherJenks',\n",
    "                   k=5);"
   ]
  },
  {
   "cell_type": "markdown",
   "id": "de9722ac",
   "metadata": {},
   "source": [
    "#### 3.2 Choropleth maps in plotly"
   ]
  },
  {
   "cell_type": "markdown",
   "id": "5cd106fd",
   "metadata": {},
   "source": [
    "First, let's take a look at an example of choropleth maps in plotly.express.\n",
    "\n",
    "Overview: The plotly.express module (usually imported as px) contains functions that can create entire figures at once, and is referred to as Plotly Express or PX. Plotly Express is a built-in part of the plotly library, and is the recommended starting point for creating most common figures. More details: https://plotly.com/python/plotly-express/\n",
    "\n",
    "We can use API plotly.express.choropleth to make choropleth maps:"
   ]
  },
  {
   "cell_type": "code",
   "execution_count": null,
   "id": "1fefe24b",
   "metadata": {},
   "outputs": [],
   "source": [
    "# chicomm_sjoin = chicomm_sjoin.set_index('DISTITLE')\n",
    "\n",
    "fig = px.choropleth(chicomm_sjoin,\n",
    "                    geojson=chicomm_sjoin.geometry,\n",
    "                    locations=chicomm_sjoin.index,\n",
    "                    color='Rate of High Risk',\n",
    "                    color_continuous_scale=\"Reds\",\n",
    "                    projection=\"mercator\")\n",
    "\n",
    "fig.update_geos(fitbounds=\"locations\", visible=False)\n",
    "\n",
    "fig.update_layout(\n",
    "    title_text='Rate of High Risk'\n",
    ")\n",
    "fig.update(layout=dict(title=dict(x=0.5)))\n",
    "fig.update_layout(\n",
    "    coloraxis_colorbar={'title':''})\n",
    "\n",
    "fig.show()"
   ]
  },
  {
   "cell_type": "code",
   "execution_count": null,
   "id": "73486a10",
   "metadata": {},
   "outputs": [],
   "source": [
    "inspections_by_year.keys()"
   ]
  },
  {
   "cell_type": "code",
   "execution_count": null,
   "id": "5f02e8cb",
   "metadata": {
    "scrolled": true
   },
   "outputs": [],
   "source": [
    "# Organize data of 13 (4) years \n",
    "merged_data = gpd.GeoDataFrame()\n",
    "for key in sorted(inspections_by_year):\n",
    "    curr_data = inspections_by_year[key]\n",
    "    total = gpd.sjoin(curr_data, chicomm[['DISTITLE', 'geometry']], op='within')\n",
    "    high_risk = gpd.sjoin(curr_data[inspections['Risk']=='Risk 1 (High)'], chicomm[['DISTITLE', 'geometry']], op='within')\n",
    "\n",
    "    total_comm = total.groupby('DISTITLE').size()\n",
    "    high_risk_comm = high_risk.groupby('DISTITLE').size()\n",
    "\n",
    "    total_comm = total_comm.to_frame(name='Number of Total Inspections')\n",
    "    high_risk_comm = high_risk_comm.to_frame(name='Number of High Risk')\n",
    "\n",
    "    curr_data_sjoin = chicomm.merge(total_comm, left_on='DISTITLE', right_on='DISTITLE')\n",
    "    curr_data_sjoin = curr_data_sjoin.merge(high_risk_comm, left_on='DISTITLE', right_on='DISTITLE')\n",
    "\n",
    "    curr_data_sjoin['Rate of High Risk'] = curr_data_sjoin.apply(lambda x: x['Number of High Risk']/x['Number of Total Inspections'], axis=1)\n",
    "    curr_data_sjoin['Year'] = key\n",
    "    merged_data = merged_data.append(curr_data_sjoin)"
   ]
  },
  {
   "cell_type": "code",
   "execution_count": null,
   "id": "3c042b0c",
   "metadata": {
    "scrolled": false
   },
   "outputs": [],
   "source": [
    "merged_data.head()"
   ]
  },
  {
   "cell_type": "code",
   "execution_count": null,
   "id": "ae164aba",
   "metadata": {
    "scrolled": false
   },
   "outputs": [],
   "source": [
    "# Dynamic map with timeline\n",
    "# merged_data = merged_data.set_index('DISTITLE')\n",
    "fig = px.choropleth(merged_data,\n",
    "                    geojson=merged_data.geometry,\n",
    "                    locations=merged_data.index,\n",
    "                    color='Rate of High Risk',\n",
    "                    color_continuous_scale=\"Reds\",\n",
    "                    animation_frame='Year',\n",
    "                    projection=\"mercator\")\n",
    "\n",
    "fig.update_geos(fitbounds=\"locations\", visible=False)\n",
    "\n",
    "fig.update_layout(\n",
    "    title_text='Rate of High Risk'\n",
    ")\n",
    "fig.update(layout=dict(title=dict(x=0.5)))\n",
    "fig.update_layout(\n",
    "    coloraxis_colorbar={'title':''})\n",
    "\n",
    "fig.show()"
   ]
  },
  {
   "cell_type": "markdown",
   "id": "ce9ca81f",
   "metadata": {},
   "source": [
    "### 4. Correlation Analysis"
   ]
  },
  {
   "cell_type": "code",
   "execution_count": null,
   "id": "7fc378f8",
   "metadata": {},
   "outputs": [],
   "source": [
    "seaborn.pairplot(chicomm_sjoin,\n",
    "                 x_vars=['PERCENT OF HOUSING CROWDED',\n",
    "                         'PERCENT HOUSEHOLDS BELOW POVERTY',\n",
    "                         'PER CAPITA INCOME ',\n",
    "                         'PERCENT AGED 16+ UNEMPLOYED',\n",
    "                         'PERCENT AGED 25+ WITHOUT HIGH SCHOOL DIPLOMA'],\n",
    "                 y_vars='Rate of High Risk',\n",
    "                 kind='reg',\n",
    "                 height=5\n",
    "                );"
   ]
  },
  {
   "cell_type": "markdown",
   "id": "219d736a",
   "metadata": {},
   "source": [
    "### 5. Spatial Autocorrelation"
   ]
  },
  {
   "cell_type": "code",
   "execution_count": null,
   "id": "6398d57b",
   "metadata": {},
   "outputs": [],
   "source": [
    "w_queen = libpysal.weights.Queen.from_dataframe(chicomm_sjoin[['Rate of High Risk', 'geometry']])\n",
    "w_rook = libpysal.weights.Rook.from_dataframe(chicomm_sjoin[['Rate of High Risk', 'geometry']])"
   ]
  },
  {
   "cell_type": "code",
   "execution_count": null,
   "id": "378fd190",
   "metadata": {},
   "outputs": [],
   "source": [
    "fig, axes = plt.subplots(1, 2, figsize=(20,10))\n",
    "\n",
    "chicomm_sjoin.boundary.plot(ax=axes[0], ls=':', color='black')\n",
    "w_rook.plot(chicomm_sjoin, ax=axes[0], \n",
    "            edge_kws=dict(color='r', linestyle=':', linewidth=1),\n",
    "            node_kws=dict(marker=''))\n",
    "\n",
    "chicomm_sjoin.boundary.plot(ax=axes[1], ls=':', color='black')\n",
    "w_queen.plot(chicomm_sjoin, ax=axes[1], \n",
    "             edge_kws=dict(color='r', linestyle=':', linewidth=1),\n",
    "             node_kws=dict(marker=''))"
   ]
  },
  {
   "cell_type": "code",
   "execution_count": null,
   "id": "4aa82903",
   "metadata": {},
   "outputs": [],
   "source": [
    "y = chicomm_sjoin['Rate of High Risk']\n",
    "\n",
    "mi_rook = esda.moran.Moran(y, w_rook)\n",
    "mi_queen = esda.moran.Moran(y, w_queen)\n",
    "print(f\"Moran's I with Rook's case contiguity: {round(mi_rook.I, 3)}, p-value: {round(mi_rook.p_norm, 3)}\")\n",
    "print(f\"Moran's I with Queen's case contiguity: {round(mi_queen.I, 3)}, p-value: {round(mi_queen.p_norm, 3)}\")"
   ]
  },
  {
   "cell_type": "code",
   "execution_count": null,
   "id": "c0f312db",
   "metadata": {},
   "outputs": [],
   "source": []
  }
 ],
 "metadata": {
  "kernelspec": {
   "display_name": "Python 3",
   "language": "python",
   "name": "python3"
  },
  "language_info": {
   "codemirror_mode": {
    "name": "ipython",
    "version": 3
   },
   "file_extension": ".py",
   "mimetype": "text/x-python",
   "name": "python",
   "nbconvert_exporter": "python",
   "pygments_lexer": "ipython3",
   "version": "3.8.8"
  }
 },
 "nbformat": 4,
 "nbformat_minor": 5
}
